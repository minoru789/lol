{
 "cells": [
  {
   "cell_type": "code",
   "execution_count": 1,
   "metadata": {},
   "outputs": [],
   "source": [
    "import requests\n",
    "import json\n",
    "import pandas as pd"
   ]
  },
  {
   "cell_type": "code",
   "execution_count": 257,
   "metadata": {},
   "outputs": [],
   "source": [
    "key = 'RGAPI-55a3556b-ff20-4cc7-91aa-bc3336e22d7f'"
   ]
  },
  {
   "cell_type": "code",
   "execution_count": 3,
   "metadata": {},
   "outputs": [],
   "source": [
    "#faz o request do summoner\n",
    "def summoner(key, summoner_name):\n",
    "    status_code = False\n",
    "    req_url = 'https://br1.api.riotgames.com/lol/summoner/v3/summoners/by-name/' + summoner_name + '?api_key=' + key\n",
    "    while(status_code == False):\n",
    "        r = requests.get(req_url)\n",
    "        status_code = r.status_code\n",
    "    return(json.loads(r.text))"
   ]
  },
  {
   "cell_type": "code",
   "execution_count": 5,
   "metadata": {},
   "outputs": [],
   "source": [
    "#pega a lista das ultimas partidas \n",
    "def matchlist(key, summoner_name):\n",
    "    sum_id = summoner(key, summoner_name)['accountId']\n",
    "    req_url = 'https://br1.api.riotgames.com/lol/match/v3/matchlists/by-account/' + str(sum_id) + '?api_key=' + key\n",
    "    status_code = False\n",
    "    while(status_code == False):\n",
    "        r = requests.get(req_url)\n",
    "        status_code = r.status_code\n",
    "    return(json.loads(r.text))"
   ]
  },
  {
   "cell_type": "code",
   "execution_count": 8,
   "metadata": {},
   "outputs": [],
   "source": [
    "def match(key, match_id):\n",
    "    req_url = 'https://br1.api.riotgames.com/lol/match/v3/matches/' + str(match_id) + '?api_key=' + key\n",
    "    status_code = False\n",
    "    while(status_code == False):\n",
    "        r = requests.get(req_url)\n",
    "        status_code = r.status_code\n",
    "    return(json.loads(r.text))"
   ]
  },
  {
   "cell_type": "code",
   "execution_count": 244,
   "metadata": {},
   "outputs": [],
   "source": [
    "def game_id_list(key, summoner_name):\n",
    "    m_list = matchlist(key, summoner_name)\n",
    "    game_id_list = []\n",
    "    for i in list(range(0, len(m_list['matches']))):\n",
    "        game_id_list.append(m_list['matches'][i]['gameId'])\n",
    "    return(game_id_list)"
   ]
  },
  {
   "cell_type": "code",
   "execution_count": 243,
   "metadata": {},
   "outputs": [],
   "source": [
    "def check_summoner_winner(key, summoner_name, match_id):\n",
    "    m = match(key = key, match_id = match_id)\n",
    "    for i in list(range(0, len(m['participantIdentities']))):\n",
    "        if m['participantIdentities'][i]['player']['summonerName'] == summoner_name:\n",
    "            player = i\n",
    "    if player < 6:\n",
    "        winner = 100\n",
    "    else:\n",
    "        winner = 200\n",
    "    \n",
    "    w = m['participants'][0]['stats']['win']\n",
    "    if w == True:\n",
    "        return(1)\n",
    "    else:\n",
    "        return(0)"
   ]
  },
  {
   "cell_type": "code",
   "execution_count": 245,
   "metadata": {},
   "outputs": [],
   "source": [
    "def match_streak(key, summoner_name, match_id):\n",
    "    m_list = matchlist(key, summoner_name)\n",
    "    game_id_list = []\n",
    "    for i in list(range(0, len(m_list['matches']))):\n",
    "        try:\n",
    "            game_id_list.append(m_list['matches'][i]['gameId'])\n",
    "        except:\n",
    "            pass\n",
    "    \n",
    "    subset_id_list = list(range(game_id_list.index(match_id), len(game_id_list)))\n",
    "    game_id_list = [game_id_list[i] for i in subset_id_list]\n",
    "    \n",
    "    result = check_summoner_winner(key, summoner_name, game_id_list[1])\n",
    "    if result == 1:\n",
    "        i = 2\n",
    "        while(True):\n",
    "            try:\n",
    "                result_tmp = check_summoner_winner(key, summoner_name, game_id_list[i])\n",
    "                if result_tmp == 1:\n",
    "                    result = result + 1\n",
    "                    i = i + 1\n",
    "                else:\n",
    "                    \n",
    "                    break\n",
    "            except:\n",
    "                break\n",
    "        return(result)\n",
    "    else:\n",
    "        result = -1\n",
    "        i = 2\n",
    "        while(True):\n",
    "            try:\n",
    "                result_tmp = check_summoner_winner(key, summoner_name, game_id_list[i])\n",
    "                if result_tmp == 0:\n",
    "                    result = result - 1\n",
    "                    i = i + 1\n",
    "                else:\n",
    "                    break\n",
    "            except:\n",
    "                break\n",
    "        return (result)    "
   ]
  },
  {
   "cell_type": "code",
   "execution_count": 302,
   "metadata": {},
   "outputs": [],
   "source": [
    "def avg_cs(key, summoner_name, games = True):\n",
    "    game_list = game_id_list(key, summoner_name)\n",
    "    if games != True:\n",
    "        idx = list(range(game_list.index(games[0]) + 1, game_list.index(games[0]) + 1 + games[1]))\n",
    "        game_list = [game_list[i] for i in idx]\n",
    "    cs_list = []\n",
    "    for i in list(range(0, len(game_list))):\n",
    "        try:\n",
    "            match_tmp = match(key, game_list[i])\n",
    "            for j in list(range(0, len(match_tmp['participantIdentities']))):\n",
    "                if match_tmp['participantIdentities'][j]['player']['summonerName'] == summoner_name:\n",
    "                    p_id = match_tmp['participantIdentities'][j]['participantId']\n",
    "            if match_tmp['participants'][p_id - 1]['timeline']['role'] != 'DUO_SUPPORT':\n",
    "                cs_info = match_tmp['participants'][p_id - 1]['timeline']['creepsPerMinDeltas']\n",
    "                cs = (cs_info['0-10'] + cs_info['10-20'] + cs_info['20-30']) * 10\n",
    "                cs_list.append(cs)\n",
    "        except:\n",
    "            pass\n",
    "    return(sum(cs_list)/len(cs_list))"
   ]
  },
  {
   "cell_type": "code",
   "execution_count": 306,
   "metadata": {},
   "outputs": [],
   "source": [
    "v = 130\n",
    "\n",
    "v_2l = 130 - v_1_5l\n"
   ]
  },
  {
   "cell_type": "code",
   "execution_count": 305,
   "metadata": {
    "scrolled": true
   },
   "outputs": [
    {
     "data": {
      "text/plain": [
       "131.9090909090909"
      ]
     },
     "execution_count": 305,
     "metadata": {},
     "output_type": "execute_result"
    }
   ],
   "source": [
    "avg_cs(key, 'scarpz')"
   ]
  },
  {
   "cell_type": "code",
   "execution_count": 232,
   "metadata": {},
   "outputs": [],
   "source": [
    "#transforma pra uma tabela com 11 colunas, 10 jogadores (champions) e o time vencedor (100 ou 200)\n",
    "def match_table(m):\n",
    "    col_names = ['player_1', 'player_2', 'player_3', 'player_4', 'player_5', 'player_6', 'player_7', 'player_8', 'player_9', 'player_10', 'time1_pos', 'time1_neg', 'time2_pos', 'time2_neg', 'winner']\n",
    "    df = pd.DataFrame(columns = col_names)\n",
    "    entries = []\n",
    "    time1 = []\n",
    "    time2 = []\n",
    "    for i in list(range(0, len(m['participants']))):\n",
    "        if i < 5:\n",
    "            time1.append(m['participantIdentities'][i]['player']['summonerName'])\n",
    "        else:\n",
    "            time2.append(m['participantIdentities'][i]['player']['summonerName'])\n",
    "            \n",
    "        entries.append(m['participants'][i]['championId'])\n",
    "    \n",
    "    time1_score, time2_score = [], []\n",
    "    for i in list(range(0, len(time1))):\n",
    "        time1_score.append(match_streak(key, time1[i], m['gameId']))\n",
    "        time2_score.append(match_streak(key, time2[i], m['gameId']))\n",
    "        \n",
    "    time1_pos = [i for i in time1_score if i > 0]\n",
    "    time1_neg = [i for i in time1_score if i < 0]\n",
    "    \n",
    "    time2_pos = [i for i in time2_score if i > 0]\n",
    "    time2_neg = [i for i in time2_score if i < 0]\n",
    "    \n",
    "    entries.append(sum(time1_pos))\n",
    "    entries.append(sum(time1_neg))\n",
    "    entries.append(sum(time2_pos))\n",
    "    entries.append(sum(time2_neg))\n",
    "    \n",
    "    if(m['participants'][0]['stats']['win'] == True):\n",
    "        winner = 100\n",
    "    else:\n",
    "        winner = 200\n",
    "    entries.append(winner)\n",
    "    df.loc[len(df)] = entries\n",
    "    return(df)"
   ]
  },
  {
   "cell_type": "code",
   "execution_count": 12,
   "metadata": {},
   "outputs": [],
   "source": [
    "#não ta funcionando, mas é pra agrupar todos os \"MATCH TABLE\" do histórico que pegar no \"MATCHLIST\"\n",
    "\n",
    "def history_matches(key, summoner_name):\n",
    "    #pega o matchlist\n",
    "    m_list = matchlist(key, summoner_name)\n",
    "    #lista vazia de game id, pra no for ir dando append, no fim printa a lista de todos os games id do histórico que a API\n",
    "    #deu\n",
    "    game_id_list = []\n",
    "    for i in list(range(0, len(m_list['matches']))):\n",
    "        game_id_list.append(m_list['matches'][i]['gameId'])\n",
    "    #faço uma tabela com o ultimo jogo e começo a iterar dando concat nos pŕoximos\n",
    "    game = match_table(match(key, game_id_list[0]))\n",
    "    for j in list(range(1, len(game_id_list))):\n",
    "        try:\n",
    "            match_tmp = match(key, game_id_list[j])\n",
    "            if(match_tmp['mapId'] != 10):\n",
    "                game_tmp = match_table(match_tmp)\n",
    "                game = pd.concat([game, game_tmp])\n",
    "        except:\n",
    "            pass\n",
    "    return(game)"
   ]
  }
 ],
 "metadata": {
  "kernelspec": {
   "display_name": "Python 3",
   "language": "python",
   "name": "python3"
  },
  "language_info": {
   "codemirror_mode": {
    "name": "ipython",
    "version": 3
   },
   "file_extension": ".py",
   "mimetype": "text/x-python",
   "name": "python",
   "nbconvert_exporter": "python",
   "pygments_lexer": "ipython3",
   "version": "3.6.7"
  }
 },
 "nbformat": 4,
 "nbformat_minor": 2
}
